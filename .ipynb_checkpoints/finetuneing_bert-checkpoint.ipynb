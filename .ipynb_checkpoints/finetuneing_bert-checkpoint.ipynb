{
 "cells": [
  {
   "cell_type": "code",
   "execution_count": null,
   "metadata": {},
   "outputs": [],
   "source": [
    "import torch\n",
    "from torch.utils.data import Dataset\n",
    "from transformers import AutoTokenizer\n",
    "from transformers import AutoModelForSequenceClassification, Trainer, TrainingArguments\n",
    "from datasets import load_metric\n",
    "from sklearn.model_selection import train_test_split\n",
    "import numpy as np\n",
    "from tqdm.notebook import tqdm\n",
    "tqdm.pandas()\n",
    "import os\n",
    "from sklearn.metrics import classification_report, cohen_kappa_score"
   ]
  },
  {
   "cell_type": "code",
   "execution_count": null,
   "metadata": {},
   "outputs": [],
   "source": [
    "\"\"\"Initializing the root path\"\"\"\n",
    "\n",
    "path = './'"
   ]
  },
  {
   "cell_type": "code",
   "execution_count": null,
   "metadata": {},
   "outputs": [],
   "source": [
    "\"\"\"Loading the preprocessed text file\"\"\"\n",
    "\n",
    "data = open(f\"{path}data/data_preprocessed.txt\",\"r\").readlines()\n",
    "data = [x[:-1] for x in data]\n",
    "class_size = len(data)//11"
   ]
  },
  {
   "cell_type": "code",
   "execution_count": null,
   "metadata": {},
   "outputs": [],
   "source": [
    "\"\"\"Splitting the data and labels into training, validation, and testing sets. Stratified split is used.\"\"\"\n",
    "\n",
    "x = np.array(data, dtype=object)\n",
    "y = np.array([0]*class_size + [1]*10*class_size)\n",
    "trainval_x, test_x, trainval_y, test_y = train_test_split(x, y, test_size = 0.2, random_state=42, stratify=y)\n",
    "train_x, val_x, train_y, val_y = train_test_split(trainval_x, trainval_y, test_size = 0.25, random_state=42, stratify=trainval_y)"
   ]
  },
  {
   "cell_type": "code",
   "execution_count": null,
   "metadata": {},
   "outputs": [],
   "source": [
    "\"\"\"Initialzing the base model name which is to be finetuned\"\"\"\n",
    "\n",
    "model_checkpoint = \"lanwuwei/BERTOverflow_stackoverflow_github\""
   ]
  },
  {
   "cell_type": "code",
   "execution_count": null,
   "metadata": {
    "scrolled": true
   },
   "outputs": [],
   "source": [
    "\"\"\"Initialzing the tokenizer corresponding to the 'model_checkpoint' initialized above\"\"\"\n",
    "\n",
    "tokenizer = AutoTokenizer.from_pretrained(model_checkpoint, use_fast=True)"
   ]
  },
  {
   "cell_type": "code",
   "execution_count": null,
   "metadata": {},
   "outputs": [],
   "source": [
    "\"\"\"Tokenizing the text data and storing them in numpy files\"\"\"\n",
    "\n",
    "def tokenizer_text(text, filename):\n",
    "    max_len = 512\n",
    "    encodings = []\n",
    "    for x in tqdm(list(text)):\n",
    "        inputs = tokenizer(x, add_special_tokens=True, max_length=max_len, truncation=True)['input_ids']\n",
    "        inputs += [0]*(max_len-len(inputs))\n",
    "        encodings.append(inputs)\n",
    "    np.save(filename,np.array(encodings))\n",
    "    \n",
    "os.mkdir(f\"{path}encodings\")\n",
    "tokenizer_text(train_x, f\"{path}encodings/train_encodings\")\n",
    "tokenizer_text(val_x, f\"{path}encodings/val_encodings\")\n",
    "tokenizer_text(test_x, f\"{path}encodings/test_encodings\")"
   ]
  },
  {
   "cell_type": "code",
   "execution_count": null,
   "metadata": {},
   "outputs": [],
   "source": [
    "\"\"\"Reading a chunk from a numpy file\"\"\"\n",
    "\n",
    "def read_npy_chunk(fhandle, row_size, dtype, shape, start_row, num_rows):\n",
    "    fhandle.seek(0)\n",
    "    _, _ = np.lib.format.read_magic(fhandle)\n",
    "    _, _, _ = np.lib.format.read_array_header_1_0(fhandle)    \n",
    "    start_byte = start_row * row_size * dtype.itemsize\n",
    "    fhandle.seek(start_byte, 1)\n",
    "    n_items = row_size * num_rows\n",
    "    flat = np.fromfile(fhandle, count=n_items, dtype=dtype)\n",
    "    return flat.reshape((-1,) + shape[1:])"
   ]
  },
  {
   "cell_type": "code",
   "execution_count": null,
   "metadata": {},
   "outputs": [],
   "source": [
    "class SOdata(Dataset):\n",
    "    def __init__(self, filename, labels):\n",
    "        r\"\"\"\n",
    "        Initializing the dataset class\n",
    "        \n",
    "        Args:\n",
    "            filename (string): the path to the file where the tokenized data is stored\n",
    "            labels (numpy.ndarray): the true labels of the data\n",
    "        \"\"\"\n",
    "        self.filename = filename\n",
    "        self.labels = labels\n",
    "        self.fhandle =  open(filename, 'rb')\n",
    "        major, minor = np.lib.format.read_magic(self.fhandle)\n",
    "        self.shape, fortran, self.dtype = np.lib.format.read_array_header_1_0(self.fhandle)\n",
    "        self.row_size = np.prod(self.shape[1:])\n",
    "\n",
    "    def __len__(self):\n",
    "        r\"\"\"\n",
    "        Returning the number of data points\n",
    "        \"\"\"\n",
    "        return len(self.labels)\n",
    "\n",
    "    def __getitem__(self, idx):\n",
    "        r\"\"\"\n",
    "        Returning the input ids and labels corresponding to the 'idx' variable\n",
    "        \n",
    "        Args:\n",
    "            idx (integer): the index corresponding to which the data needs to be fetched\n",
    "        \"\"\"\n",
    "        encodings = read_npy_chunk(self.fhandle, self.row_size, self.dtype, self.shape, idx, 1)\n",
    "        item = {}\n",
    "        item['input_ids'] = torch.tensor(encodings[0])\n",
    "        item['labels'] = torch.tensor(self.labels[idx])\n",
    "        return item    "
   ]
  },
  {
   "cell_type": "code",
   "execution_count": null,
   "metadata": {},
   "outputs": [],
   "source": [
    "\"\"\"Initializing the training, validation, and test datasets\"\"\"\n",
    "\n",
    "train_dataset = SOdata(f\"{path}encodings/train_encodings.npy\", train_y)\n",
    "val_dataset = SOdata(f\"{path}encodings/val_encodings.npy\", val_y)\n",
    "test_dataset = SOdata(f\"{path}encodings/test_encodings.npy\", test_y)"
   ]
  },
  {
   "cell_type": "code",
   "execution_count": null,
   "metadata": {},
   "outputs": [],
   "source": [
    "\"\"\"Initializing the metrics to be reported while evaluating the model\"\"\"\n",
    "\n",
    "acc = load_metric(\"accuracy\")\n",
    "pre = load_metric(\"precision\")\n",
    "rec = load_metric(\"recall\")\n",
    "f1 = load_metric(\"f1\")\n",
    "\n",
    "def compute_metrics(eval_pred):\n",
    "    logits, labels = eval_pred\n",
    "    predictions = np.argmax(logits, axis=-1)\n",
    "    return {'accuracy':acc.compute(predictions=predictions, references=labels), \n",
    "            'precision':pre.compute(predictions=predictions, references=labels),\n",
    "            'recall':rec.compute(predictions=predictions, references=labels),\n",
    "            'f1':f1.compute(predictions=predictions, references=labels)}"
   ]
  },
  {
   "cell_type": "code",
   "execution_count": null,
   "metadata": {},
   "outputs": [],
   "source": [
    "\"\"\"Initializing arguments to be used by the 'Trainer' API while training the model\"\"\"\n",
    "\n",
    "os.mkdir(f\"{path}models/\")\n",
    "\n",
    "training_args = TrainingArguments(\n",
    "    output_dir = f\"{path}models/\",\n",
    "    num_train_epochs=1,\n",
    "    per_device_train_batch_size=8,\n",
    "    per_device_eval_batch_size=8,\n",
    "    warmup_steps=500,\n",
    "    weight_decay=0.01,\n",
    "    logging_steps=5000,\n",
    "    save_steps=5000,\n",
    "    save_total_limit=5,\n",
    "    seed=42,\n",
    "    evaluation_strategy=\"steps\",\n",
    "    eval_steps=5000,\n",
    "    learning_rate=1e-5,\n",
    "    metric_for_best_model=\"eval_loss\",\n",
    "    greater_is_better=False,\n",
    "    no_cuda=False\n",
    ")"
   ]
  },
  {
   "cell_type": "code",
   "execution_count": null,
   "metadata": {},
   "outputs": [],
   "source": [
    "\"\"\"Initialzing the model corresponding to the 'model_checkpoint' initialized above and the 'Trainer' object\"\"\"\n",
    "\n",
    "model = AutoModelForSequenceClassification.from_pretrained(model_checkpoint, num_labels=2, output_hidden_states=False)\n",
    "trainer = Trainer(\n",
    "    model=model,\n",
    "    args=training_args,\n",
    "    train_dataset=train_dataset,\n",
    "    eval_dataset=val_dataset,\n",
    "    compute_metrics=compute_metrics\n",
    ")"
   ]
  },
  {
   "cell_type": "code",
   "execution_count": null,
   "metadata": {},
   "outputs": [],
   "source": [
    "\"\"\"Training and evaluating the model\"\"\"\n",
    "\n",
    "print(trainer.train())"
   ]
  },
  {
   "cell_type": "code",
   "execution_count": null,
   "metadata": {},
   "outputs": [],
   "source": [
    "\"\"\"Testing the finetuned model\"\"\"\n",
    "\n",
    "test_pred = trainer.predict(test_dataset=test_dataset)\n",
    "pred_class = np.argmax(test_pred[0], axis=1)\n",
    "print(f\"{classification_report(test_y, pred_class, digits=7)}\\n\")\n",
    "print(f\"cohen kappa: {cohen_kappa_score(test_y, pred_class)}\\n\")"
   ]
  }
 ],
 "metadata": {
  "kernelspec": {
   "display_name": "env3.8",
   "language": "python",
   "name": "env3.8"
  },
  "language_info": {
   "codemirror_mode": {
    "name": "ipython",
    "version": 3
   },
   "file_extension": ".py",
   "mimetype": "text/x-python",
   "name": "python",
   "nbconvert_exporter": "python",
   "pygments_lexer": "ipython3",
   "version": "3.8.11"
  }
 },
 "nbformat": 4,
 "nbformat_minor": 2
}
