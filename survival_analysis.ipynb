{
 "cells": [
  {
   "cell_type": "code",
   "execution_count": null,
   "metadata": {},
   "outputs": [],
   "source": [
    "import pandas as pd\n",
    "import numpy as np\n",
    "import matplotlib.pyplot as plt\n",
    "import seaborn as sb\n",
    "from collections import defaultdict\n",
    "from tqdm import tqdm\n",
    "from lifelines import KaplanMeierFitter\n",
    "from matplotlib import cm"
   ]
  },
  {
   "cell_type": "code",
   "execution_count": null,
   "metadata": {},
   "outputs": [],
   "source": [
    "\"\"\"Initialization the root path\"\"\"\n",
    "\n",
    "path = \"./data/\""
   ]
  },
  {
   "cell_type": "code",
   "execution_count": null,
   "metadata": {},
   "outputs": [],
   "source": [
    "\"\"\"Reading the dataset snapshot\"\"\"\n",
    "\n",
    "filename = f\"{path}Posts_June2019.csv\"\n",
    "fulldata=pd.read_csv(filename)\n",
    "fulldata.shape"
   ]
  },
  {
   "cell_type": "code",
   "execution_count": null,
   "metadata": {},
   "outputs": [],
   "source": [
    "\"\"\"Reading the cleaned data we used in our analysis\"\"\"\n",
    "\n",
    "filename = f\"{path}data.csv\"\n",
    "data = pd.read_csv(filename)\n",
    "data.shape"
   ]
  },
  {
   "cell_type": "code",
   "execution_count": null,
   "metadata": {},
   "outputs": [],
   "source": [
    "\"\"\"Filtering out the closed questions' post ids\"\"\"\n",
    "\n",
    "ques_index = data[data['Class']=='closed']['PostId'].to_list()\n",
    "len(ques_index)"
   ]
  },
  {
   "cell_type": "code",
   "execution_count": null,
   "metadata": {},
   "outputs": [],
   "source": [
    "\"\"\"Filtering out all the answers for the closed questions filtered above\"\"\"\n",
    "\n",
    "answer_data = fulldata[(fulldata.PostTypeId==2) & (fulldata.ParentId.isin(ques_index))]\n",
    "answer_data.shape"
   ]
  },
  {
   "cell_type": "code",
   "execution_count": null,
   "metadata": {},
   "outputs": [],
   "source": [
    "\"\"\"Finding the first answer's creation date of the closed questions\"\"\"\n",
    "\n",
    "clques_date = defaultdict(lambda: '')\n",
    "\n",
    "for i in tqdm(range(len(answer_data))):\n",
    "    post = answer_data.iloc[i]\n",
    "    pid = post['ParentId']\n",
    "    if clques_date[pid] == '':\n",
    "        clques_date[pid] = post['CreationDate']\n",
    "    else:\n",
    "        clques_date[pid] = min(clques_date[pid], post['CreationDate'])"
   ]
  },
  {
   "cell_type": "code",
   "execution_count": null,
   "metadata": {},
   "outputs": [],
   "source": [
    "\"\"\"Adding column for first reply's creation date\"\"\"\n",
    "\n",
    "closed = data[data['Class']=='closed'].reset_index()\n",
    "closed['FirstReplyDate'] = closed['PostId'].map(clques_date)\n",
    "closed['FirstReplyDate'] = closed['FirstReplyDate'].replace('', np.nan)\n",
    "closed = closed.dropna(subset=['CreationDate'])\n",
    "c1 = closed[~(closed['FirstReplyDate']<closed['CreationDate'])]"
   ]
  },
  {
   "cell_type": "code",
   "execution_count": null,
   "metadata": {},
   "outputs": [],
   "source": [
    "\"\"\"Removing some inconsistencies and questions which were reopened\"\"\"\n",
    "\n",
    "c2 = c1[(c1.FirstReplyDate.isna()) | (c1.FirstReplyDate<c1.ClosedDate)]\n",
    "reopened = pd.read_csv(f\"{path}reopened_posts.csv\")\n",
    "c2 = c2[~(c2.PostId.isin(reopened.PostId))]\n",
    "c2 = c2.dropna(subset=['ClosedDate'])\n",
    "c2.shape"
   ]
  },
  {
   "cell_type": "code",
   "execution_count": null,
   "metadata": {},
   "outputs": [],
   "source": [
    "\"\"\"Making the final dataframe of events and timestamps\"\"\"\n",
    "\n",
    "replies_te = pd.DataFrame()\n",
    "replies_te['E'] = c2['FirstReplyDate'].apply(lambda x: 0 if x is np.nan else 1)"
   ]
  },
  {
   "cell_type": "code",
   "execution_count": null,
   "metadata": {},
   "outputs": [],
   "source": [
    "\"\"\"Adding a column for the time duration between getting first reply or getting closed\"\"\"\n",
    "\n",
    "reply_durations = []\n",
    "for row in tqdm(c2.itertuples()):\n",
    "    if row.FirstReplyDate is np.nan:\n",
    "        reply_durations.append(\n",
    "            (pd.to_datetime(row.ClosedDate) - pd.to_datetime(row.CreationDate))/pd.Timedelta('1 hour')\n",
    "        )\n",
    "    else:\n",
    "        reply_durations.append(\n",
    "            (pd.to_datetime(row.FirstReplyDate) - pd.to_datetime(row.CreationDate))/pd.Timedelta('1 hour')\n",
    "        )\n",
    "replies_te['T'] = reply_durations"
   ]
  },
  {
   "cell_type": "code",
   "execution_count": null,
   "metadata": {},
   "outputs": [],
   "source": [
    "\"\"\"Adding a columns containing the tags and close reason for each post\"\"\"\n",
    "\n",
    "replies_te['Reason'] = c2['Comment']\n",
    "replies_te['Tags'] = c2['Tags']\n",
    "replies_te['TagSet'] = np.nan\n",
    "\n",
    "all_tags = []\n",
    "for i in tqdm(range(len(replies_te[:]))):\n",
    "    post = replies_te.iloc[i]\n",
    "    tags = post['Tags']\n",
    "    tags = tags[:-1]\n",
    "    tags = tags.replace('<','')\n",
    "    tags = tags.replace('>',' ')\n",
    "    tags = list(map(str,tags.split()))\n",
    "    all_tags.append(set(tags))\n",
    "replies_te['TagSet'] = all_tags"
   ]
  },
  {
   "cell_type": "code",
   "execution_count": null,
   "metadata": {},
   "outputs": [],
   "source": [
    "\"\"\"Initializing the tags belonging to different categories\"\"\"\n",
    "\n",
    "databases = ['mysql','postgresql','sqlite','mongodb','sql-server','redis','mariadb','firebase','elasticsearch','oracle']\n",
    "cloud = ['amazon-web-services','google-cloud-platform','azure','heroku','digital-ocean','ibm-cloud','ibm-watson','oracle-cloud-infrastructure']\n",
    "webframeworks = ['reactjs','jquery','express','angularjs','vue.js','asp.net-core','flask','asp.net','django','spring']\n",
    "programming = ['javascript','html','css','python','sql','java','node.js','typescript','c#','bash','shell','c++']\n",
    "others = ['.net','numpy','.net-core','pandas','tensorflow','react-native','flutter','keras','qt','torch','pytorch']"
   ]
  },
  {
   "cell_type": "code",
   "execution_count": null,
   "metadata": {},
   "outputs": [],
   "source": [
    "\"\"\"Categorizing function to identify different categories to which the question belongs\"\"\"\n",
    "\n",
    "def check_tags(tags):\n",
    "    categ = [0, 0, 0, 0, 0]\n",
    "    if len(tags.intersection(databases))>0:\n",
    "        categ[0] = 1\n",
    "    if len(tags.intersection(cloud))>0:\n",
    "        categ[1] = 1\n",
    "    if len(tags.intersection(webframeworks))>0:\n",
    "        categ[2] = 1\n",
    "    if len(tags.intersection(programming))>0:\n",
    "        categ[3] = 1\n",
    "    if len(tags.intersection(others))>0:\n",
    "        categ[4] = 1\n",
    "    return categ"
   ]
  },
  {
   "cell_type": "code",
   "execution_count": null,
   "metadata": {},
   "outputs": [],
   "source": [
    "\"\"\"Assigning the identified categories to the questions\"\"\"\n",
    "\n",
    "all_categ = []\n",
    "for i in tqdm(range(len(replies_te[:]))):\n",
    "    all_categ.append(check_tags(replies_te.iloc[i]['TagSet']))\n",
    "all_categ = np.array(all_categ)\n",
    "replies_te['databases'] = all_categ[:,0]\n",
    "replies_te['cloud'] = all_categ[:,1]\n",
    "replies_te['webframeworks'] = all_categ[:,2]\n",
    "replies_te['programming'] = all_categ[:,3]\n",
    "replies_te['others'] = all_categ[:,4]"
   ]
  },
  {
   "cell_type": "code",
   "execution_count": null,
   "metadata": {},
   "outputs": [],
   "source": [
    "\"\"\"Fitting Kaplan Meier on a given category\"\"\"\n",
    "\n",
    "def plot_kmf(category, ax, color, title):\n",
    "    if type(category) == type('a'):\n",
    "        temp = replies_te[replies_te[category]==1][['T','E']]\n",
    "    else:\n",
    "        temp = replies_te[replies_te['Reason']==category][['T','E']]\n",
    "    kmf.fit(temp['T'], temp['E'], label=category)\n",
    "    ax.plot(np.log(kmf.survival_function_), label=title, color=color, linewidth=2.5)\n",
    "    conf_interval = kmf.confidence_interval_survival_function_\n",
    "    median_st = kmf.median_survival_time_\n",
    "    print(category)\n",
    "    print(\"Median: \", median_st)\n",
    "    print(conf_interval[conf_interval.index==median_st])\n",
    "    print()"
   ]
  },
  {
   "cell_type": "code",
   "execution_count": null,
   "metadata": {},
   "outputs": [],
   "source": [
    "\"\"\"Plotting the graph for all categories\"\"\"\n",
    "\n",
    "kmf = KaplanMeierFitter() \n",
    "fig, (axr, axl) = plt.subplots(figsize=(12,4), ncols=2)\n",
    "colors = [cm.tab10(i) for i in range(10)][::-1]\n",
    "titles = ['Databases','Cloud','Web Frameworks', 'Programming languages','Others']\n",
    "\n",
    "plot_kmf('databases', axl, colors[0], titles[0])\n",
    "plot_kmf('cloud', axl, colors[1], titles[1])\n",
    "plot_kmf('webframeworks', axl, colors[2], titles[2])\n",
    "plot_kmf('programming', axl, colors[3], titles[3])\n",
    "plot_kmf('others', axl, colors[4], titles[4])\n",
    "\n",
    "axl.set_xlabel(\"First answer time (hours)\",fontsize=12)\n",
    "axl.tick_params('both', width=1, which='major', labelsize=10)\n",
    "axl.set_ylabel(\"Survival Function, log(S(t))\",fontsize=12)\n",
    "leg = axl.legend(bbox_to_anchor=(1,1), loc='upper right', ncol=1, prop={'size':12}, title='Technologies')\n",
    "leg._legend_box.align = \"left\"\n",
    "leg.get_title().set_fontsize(12)\n",
    "\n",
    "plot_kmf(102, axr, colors[5], 102)\n",
    "plot_kmf(103, axr, colors[6], 103)\n",
    "plot_kmf(104, axr, colors[7], 104)\n",
    "plot_kmf(105, axr, colors[8], 105)\n",
    "\n",
    "axr.set_xlabel(\"First answer time (hours)\",fontsize=12)\n",
    "axr.tick_params('both', width=1, which='major', labelsize=10)\n",
    "axr.set_ylabel(\"Survival Function, log(S(t))\",fontsize=12)\n",
    "leg = axr.legend(bbox_to_anchor=(1,1), loc='upper right', ncol=1, prop={'size':12}, title='Closing Reason')\n",
    "leg._legend_box.align = \"left\"\n",
    "leg.get_title().set_fontsize(12)"
   ]
  },
  {
   "cell_type": "code",
   "execution_count": null,
   "metadata": {},
   "outputs": [],
   "source": [
    "\"\"\"Saving the plotted survival plot\"\"\"\n",
    "\n",
    "fig.savefig(\"./survival_analysis.pdf\", bbox_inches='tight')"
   ]
  }
 ],
 "metadata": {
  "kernelspec": {
   "display_name": "env3.8",
   "language": "python",
   "name": "env3.8"
  },
  "language_info": {
   "codemirror_mode": {
    "name": "ipython",
    "version": 3
   },
   "file_extension": ".py",
   "mimetype": "text/x-python",
   "name": "python",
   "nbconvert_exporter": "python",
   "pygments_lexer": "ipython3",
   "version": "3.8.11"
  }
 },
 "nbformat": 4,
 "nbformat_minor": 2
}
